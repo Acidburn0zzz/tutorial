{
 "cells": [
  {
   "cell_type": "markdown",
   "metadata": {},
   "source": [
    "# Container exercises\n",
    "\n",
    "Earlier notebooks listed the container widgets in ipywidgets and how the widgets contained in them are laid out. As a reminder, the contents of the container are its `children`, a list of widgets. The distribution and alignment of the children are determined by the flex-box properties of the `layout` described in [Widget Styling](Widget-Styling.ipynb#The-Flexbox-layout)."
   ]
  },
  {
   "cell_type": "code",
   "execution_count": 1,
   "metadata": {},
   "outputs": [],
   "source": [
    "import ipywidgets as widgets"
   ]
  },
  {
   "cell_type": "markdown",
   "metadata": {},
   "source": [
    "## 1. Alignment of children\n",
    "\n",
    "The cell below defines three children that are different sizes and lays them out in a horizontal box. Adjust the two layout properties so that the displayed hbox matches the image below.\n",
    "\n",
    "![final layout of widgets](images/container-exercises1-final-layout.png)"
   ]
  },
  {
   "cell_type": "code",
   "execution_count": 16,
   "metadata": {},
   "outputs": [
    {
     "data": {
      "application/vnd.jupyter.widget-view+json": {
       "model_id": "ba94353a4d5342a6a93cf5bea7256ec0",
       "version_major": "2",
       "version_minor": "0"
      },
      "text/plain": [
       "A Jupyter Widget"
      ]
     },
     "metadata": {},
     "output_type": "display_data"
    }
   ],
   "source": [
    "button = widgets.Button(description='Click me')\n",
    "text = widgets.Textarea(description='Words here:', rows=10)\n",
    "valid = widgets.Valid(description='check', value=True)\n",
    "\n",
    "container = widgets.HBox()\n",
    "container.children = [button, text, valid]\n",
    "container.layout.justify_content = 'flex-start'\n",
    "container.layout.align_items = 'flex-start'\n",
    "container.layout.width = '100%'\n",
    "container"
   ]
  },
  {
   "cell_type": "markdown",
   "metadata": {},
   "source": [
    "### Alignment of children: additional (optional) challenges\n",
    "\n",
    "Using only `layout` attributes make the widget above:\n",
    "\n",
    "+ Display the children in reverse order (**not** by just reversing the list of children).\n",
    "+ Display the children vertically instead of horzontally.\n",
    "+ Dsiplay the children in the order `valid`, `button`, `text`. "
   ]
  },
  {
   "cell_type": "markdown",
   "metadata": {},
   "source": [
    "## 2. Layout from scratch\n",
    "\n",
    "Three children widgets are defined in the cell below. Compose them into a vertical box laid out as shown in this image: \n",
    "\n",
    "![layout of vertical box](images/container-exercises2-final-layout.png)\n",
    "\n",
    "You should be able to accomplish that by setting the appropriate `layout` attribute(s) on `vbox`."
   ]
  },
  {
   "cell_type": "code",
   "execution_count": 42,
   "metadata": {},
   "outputs": [
    {
     "data": {
      "application/vnd.jupyter.widget-view+json": {
       "model_id": "d31dcdab90d24e4f93f12b64bd603d7a",
       "version_major": "2",
       "version_minor": "0"
      },
      "text/plain": [
       "A Jupyter Widget"
      ]
     },
     "metadata": {},
     "output_type": "display_data"
    }
   ],
   "source": [
    "numbers = widgets.Checkbox(description='Include numbers in password')\n",
    "words = widgets.Label('The generated password is:')\n",
    "toggles = widgets.ToggleButtons(description='Type of special characters to include',\n",
    "                                options=['!@#$', '%^&*', '()_+'],\n",
    "                                style={'description_width': 'initial'})\n",
    "vbox = widgets.VBox()\n",
    "vbox.layout.border = '2px solid grey'\n",
    "vbox.layout.height = '250px'\n",
    "vbox"
   ]
  },
  {
   "cell_type": "code",
   "execution_count": 40,
   "metadata": {},
   "outputs": [],
   "source": [
    "vbox.layout.align_items = 'flex-start'\n",
    "vbox.layout.justify_content = 'space-around'"
   ]
  },
  {
   "cell_type": "code",
   "execution_count": 37,
   "metadata": {},
   "outputs": [],
   "source": [
    "vbox.layout.border = '2px solid grey'"
   ]
  },
  {
   "cell_type": "code",
   "execution_count": null,
   "metadata": {},
   "outputs": [],
   "source": []
  }
 ],
 "metadata": {
  "kernelspec": {
   "display_name": "Python 3",
   "language": "python",
   "name": "python3"
  },
  "language_info": {
   "codemirror_mode": {
    "name": "ipython",
    "version": 3
   },
   "file_extension": ".py",
   "mimetype": "text/x-python",
   "name": "python",
   "nbconvert_exporter": "python",
   "pygments_lexer": "ipython3",
   "version": "3.6.1"
  }
 },
 "nbformat": 4,
 "nbformat_minor": 2
}
