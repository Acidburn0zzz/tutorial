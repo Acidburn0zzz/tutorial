{
 "cells": [
  {
   "cell_type": "markdown",
   "metadata": {},
   "source": [
    "# Container exercises\n",
    "\n",
    "Earlier notebooks listed the container widgets in ipywidgets and how the widgets contained in them are laid out. As a reminder, the contents of the container are its `children`, a list of widgets. The distribution and alignment of the children are determined by the flex-box properties of the `layout` described in [Widget Styling](Widget-Styling.ipynb#The-Flexbox-layout).\n",
    "\n",
    "This set of exercises leads up to a password generator widget that will be completed after discussing widget events. The generator allows the user to set the length of the password, choose a set of special characters to include, and decide whether to include any digits. The final widget updates the password on the fly, as shown in this animation:\n",
    "\n",
    "![password generator gui](images/pass-gen-demo.gif)"
   ]
  },
  {
   "cell_type": "code",
   "execution_count": 1,
   "metadata": {},
   "outputs": [],
   "source": [
    "import ipywidgets as widgets"
   ]
  },
  {
   "cell_type": "markdown",
   "metadata": {},
   "source": [
    "## 1. Alignment of children\n",
    "\n",
    "The cell below defines three children that are different sizes and lays them out in a horizontal box. Adjust the two layout properties so that the displayed hbox matches the image below.\n",
    "\n",
    "![final layout of widgets](images/container-exercises1-final-layout.png)"
   ]
  },
  {
   "cell_type": "code",
   "execution_count": 2,
   "metadata": {},
   "outputs": [
    {
     "data": {
      "application/vnd.jupyter.widget-view+json": {
       "model_id": "242c8dc9be844f4ca3640b129bc7d317",
       "version_major": "2",
       "version_minor": "0"
      },
      "text/plain": [
       "A Jupyter Widget"
      ]
     },
     "metadata": {},
     "output_type": "display_data"
    }
   ],
   "source": [
    "button = widgets.Button(description='Click me')\n",
    "text = widgets.Textarea(description='Words here:', rows=10)\n",
    "valid = widgets.Valid(description='check', value=True)\n",
    "\n",
    "container = widgets.HBox()\n",
    "container.children = [button, text, valid]\n",
    "container.layout.width = '100%'\n",
    "\n",
    "# Adjust these properties\n",
    "container.layout.justify_content = 'flex-start'\n",
    "container.layout.align_items = 'flex-start'\n",
    "\n",
    "container"
   ]
  },
  {
   "cell_type": "markdown",
   "metadata": {},
   "source": [
    "### Alignment of children: additional (optional) challenges\n",
    "\n",
    "Using only `layout` attributes make the widget above:\n",
    "\n",
    "+ Display the children in reverse order (**not** by just reversing the list of children).\n",
    "+ Display the children vertically instead of horzontally.\n",
    "+ Dsiplay the children in the order `valid`, `button`, `text`. "
   ]
  },
  {
   "cell_type": "markdown",
   "metadata": {},
   "source": [
    "## 2. Layout from scratch\n",
    "\n",
    "Three child widgets are defined in the cell below. Compose them into a vertical box laid out as shown in this image: \n",
    "\n",
    "![layout of vertical box](images/container-exercises2-final-layout.png)\n",
    "\n",
    "You should be able to accomplish that layout by setting the appropriate `layout` attribute(s) on `vbox` (don't forget to add the children first)."
   ]
  },
  {
   "cell_type": "code",
   "execution_count": 3,
   "metadata": {},
   "outputs": [
    {
     "data": {
      "application/vnd.jupyter.widget-view+json": {
       "model_id": "0daa464588bc429db9812a10227e4d68",
       "version_major": "2",
       "version_minor": "0"
      },
      "text/plain": [
       "A Jupyter Widget"
      ]
     },
     "metadata": {},
     "output_type": "display_data"
    }
   ],
   "source": [
    "numbers = widgets.Checkbox(description='Include numbers in password')\n",
    "words = widgets.Label('The generated password is:')\n",
    "toggles = widgets.ToggleButtons(description='Type of special characters to include',\n",
    "                                options=[',./;[', '!@#~%', '^&*()'],\n",
    "                                style={'description_width': 'initial'})\n",
    "vbox = widgets.VBox()\n",
    "\n",
    "# The border is set here just to make it easier to see the position of \n",
    "# the children with respect to the box.\n",
    "vbox.layout.border = '2px solid grey'\n",
    "vbox.layout.height = '250px'\n",
    "\n",
    "# Insert your layout settings here\n",
    "\n",
    "vbox"
   ]
  },
  {
   "cell_type": "markdown",
   "metadata": {},
   "source": [
    "## Improve the look of the children\n",
    "\n",
    "The \"special character\" toggle buttons would really look better if the label was above the buttons, and the checkbox would look better without the whitespace to its left.\n",
    "\n",
    "### A better special character control\n",
    "\n",
    "The cell below, constructs a widget with the text \"Type of special characters to include\" above the `ToggleButtons`, with all of the content left-aligned, and the toggle buttons slightly indented.\n",
    "\n",
    "This is the second time we've needed a vbox with all the items left-aligned, so it makes sense to start out with a `Layout` widget that defines that format"
   ]
  },
  {
   "cell_type": "code",
   "execution_count": 6,
   "metadata": {},
   "outputs": [
    {
     "data": {
      "application/vnd.jupyter.widget-view+json": {
       "model_id": "24bc4c1fda304605bdd874b9e58dd5c7",
       "version_major": "2",
       "version_minor": "0"
      },
      "text/plain": [
       "A Jupyter Widget"
      ]
     },
     "metadata": {},
     "output_type": "display_data"
    }
   ],
   "source": [
    "vbox_left_layout = widgets.Layout(align_items='flex-start')\n",
    "\n",
    "label = widgets.Label('Choose special characters to include')\n",
    "toggles = widgets.ToggleButtons(description='',\n",
    "                                options=['!@#$', '%^&*', '()_+'],\n",
    "                                style={'description_width': 'initial'})\n",
    "\n",
    "# Set the margins to control the indentation. \n",
    "# The order is top right bottom left\n",
    "toggles.layout.margin = '0 0 0 20px'\n",
    "\n",
    "better_toggles = widgets.VBox([label, toggles])\n",
    "better_toggles.layout = vbox_left_layout\n",
    "better_toggles"
   ]
  },
  {
   "cell_type": "markdown",
   "metadata": {},
   "source": [
    "### Checkbox whitespace issues\n",
    "\n",
    "The checkbox in the example above has unnecessary whitespace to the left of the box. Setting the `description_width` to `initial` removes it."
   ]
  },
  {
   "cell_type": "code",
   "execution_count": 7,
   "metadata": {},
   "outputs": [
    {
     "data": {
      "application/vnd.jupyter.widget-view+json": {
       "model_id": "faa4697cfd6e4c02afd458631c85352f",
       "version_major": "2",
       "version_minor": "0"
      },
      "text/plain": [
       "A Jupyter Widget"
      ]
     },
     "metadata": {},
     "output_type": "display_data"
    }
   ],
   "source": [
    "numbers = widgets.Checkbox(description='Include numbers in password',\n",
    "                           style={'description_width': 'initial'})\n",
    "numbers"
   ]
  }
 ],
 "metadata": {
  "kernelspec": {
   "display_name": "Python 3",
   "language": "python",
   "name": "python3"
  },
  "language_info": {
   "codemirror_mode": {
    "name": "ipython",
    "version": 3
   },
   "file_extension": ".py",
   "mimetype": "text/x-python",
   "name": "python",
   "nbconvert_exporter": "python",
   "pygments_lexer": "ipython3",
   "version": "3.6.1"
  }
 },
 "nbformat": 4,
 "nbformat_minor": 2
}
