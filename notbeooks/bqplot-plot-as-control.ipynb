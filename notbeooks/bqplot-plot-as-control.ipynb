{
 "cells": [
  {
   "cell_type": "code",
   "execution_count": 1,
   "metadata": {},
   "outputs": [],
   "source": [
    "from __future__ import print_function\n",
    "import numpy as np\n",
    "\n",
    "from bqplot import (\n",
    "    Axis, ColorAxis, LinearScale, DateScale, DateColorScale, OrdinalScale,\n",
    "    OrdinalColorScale, ColorScale, Scatter, Lines, Figure, Tooltip\n",
    ")\n",
    "\n",
    "import ipywidgets as widgets"
   ]
  },
  {
   "cell_type": "markdown",
   "metadata": {},
   "source": [
    "# Using one plot as a control for another\n",
    "\n",
    "## Final widget will look like this\n",
    "\n",
    "![fourier series widget](images/plot-as-control.gif)\n",
    "\n"
   ]
  },
  {
   "cell_type": "code",
   "execution_count": 2,
   "metadata": {},
   "outputs": [],
   "source": [
    "N_fourier_components = 10\n",
    "x_data = np.arange(N_fourier_components) + 1\n",
    "y_data = np.random.uniform(low=-1, high=1, size=N_fourier_components)"
   ]
  },
  {
   "cell_type": "code",
   "execution_count": 3,
   "metadata": {},
   "outputs": [
    {
     "data": {
      "application/vnd.jupyter.widget-view+json": {
       "model_id": "5c06e5bdfc7f4cbb91b3545304357bbb",
       "version_major": "2",
       "version_minor": "0"
      },
      "text/plain": [
       "A Jupyter Widget"
      ]
     },
     "metadata": {},
     "output_type": "display_data"
    }
   ],
   "source": [
    "sc_x = LinearScale()\n",
    "sc_y = LinearScale(min=-1.0, max=1.0)\n",
    "\n",
    "scat = Scatter(x=x_data, y=y_data, scales={'x': sc_x, 'y': sc_y}, colors=['orange'],\n",
    "               enable_move=True)\n",
    "scat.restrict_y = True\n",
    "\n",
    "ax_x = Axis(scale=sc_x)\n",
    "ax_y = Axis(scale=sc_y, tick_format='0.2f', orientation='vertical')\n",
    "\n",
    "amplitude_control = Figure(marks=[scat], axes=[ax_x, ax_y], \n",
    "                           title='Fourier amplitudes')\n",
    "amplitude_control.layout.width = '400px'\n",
    "amplitude_control"
   ]
  },
  {
   "cell_type": "code",
   "execution_count": 4,
   "metadata": {},
   "outputs": [
    {
     "name": "stdout",
     "output_type": "stream",
     "text": [
      "[-0.04362407  0.26273339 -0.85852745  0.42058985  0.82719331 -0.34148466\n",
      "  0.5125198   0.59454853 -0.47458763 -0.77869135]\n"
     ]
    }
   ],
   "source": [
    "print(scat.y)"
   ]
  },
  {
   "cell_type": "code",
   "execution_count": 5,
   "metadata": {},
   "outputs": [
    {
     "name": "stdout",
     "output_type": "stream",
     "text": [
      "[-0.04362407  0.26273339 -0.85852745  0.42058985  0.82719331 -0.34148466\n",
      "  0.5125198   0.59454853 -0.47458763 -0.77869135]\n"
     ]
    }
   ],
   "source": [
    "print(y_data)"
   ]
  },
  {
   "cell_type": "code",
   "execution_count": 13,
   "metadata": {},
   "outputs": [],
   "source": [
    "def fourier_series(amplitudes):\n",
    "    \"\"\"\n",
    "    Compute the fourier sine series given a set of amplitudes. The \n",
    "    period of the fundamental of the series is 1 and the series is \n",
    "    generated for two periods.\n",
    "    \"\"\"\n",
    "    period = 1.0\n",
    "    x = np.linspace(0, 2 * period, num=1000)\n",
    "    y = np.sum(a * np.sin(2 * np.pi * (n + 1) * x / period) for n, a in enumerate(amplitudes))\n",
    "\n",
    "    return x, y"
   ]
  },
  {
   "cell_type": "code",
   "execution_count": 17,
   "metadata": {},
   "outputs": [
    {
     "data": {
      "application/vnd.jupyter.widget-view+json": {
       "model_id": "d5d0968b42e24cabbd72b71600936241"
      }
     },
     "metadata": {},
     "output_type": "display_data"
    }
   ],
   "source": [
    "lin_x = LinearScale()\n",
    "lin_y = LinearScale()\n",
    "\n",
    "line = Lines(scales={'x': lin_x, 'y': lin_y}, colors=['orange'],\n",
    "               enable_move=False)\n",
    "\n",
    "ax_x = Axis(scale=lin_x)\n",
    "ax_y = Axis(scale=lin_y, tick_format='0.2f', orientation='vertical')\n",
    "\n",
    "result = Figure(marks=[line], axes=[ax_x, ax_y], \n",
    "                title='Fourier sine series',\n",
    "                animation_duration=500)\n",
    "result.layout.width = '400px'\n",
    "\n",
    "# Add some test data to make view the result\n",
    "initial_amplitudes = np.zeros(10)\n",
    "initial_amplitudes[0] = 1.0\n",
    "line.x, line.y = fourier_series(initial_amplitudes)\n",
    "\n",
    "result"
   ]
  },
  {
   "cell_type": "code",
   "execution_count": 18,
   "metadata": {},
   "outputs": [],
   "source": [
    "amplitude_control.marks[0].y = initial_amplitudes"
   ]
  },
  {
   "cell_type": "code",
   "execution_count": 19,
   "metadata": {},
   "outputs": [
    {
     "data": {
      "application/vnd.jupyter.widget-view+json": {
       "model_id": "2d714ce38e7b4fe886b8198db8771d7e"
      }
     },
     "metadata": {},
     "output_type": "display_data"
    }
   ],
   "source": [
    "box = widgets.HBox(children=[amplitude_control, result])\n",
    "box"
   ]
  },
  {
   "cell_type": "markdown",
   "metadata": {},
   "source": [
    "## Looks good, connect things up"
   ]
  },
  {
   "cell_type": "code",
   "execution_count": 10,
   "metadata": {},
   "outputs": [],
   "source": [
    "def update_line(change):\n",
    "    new_x, new_y = fourier_series(change['new'])\n",
    "    line.x = new_x\n",
    "    line.y = new_y\n",
    "    \n",
    "# React to changes in the y value....\n",
    "scat.observe(update_line, names=['y'])"
   ]
  },
  {
   "cell_type": "code",
   "execution_count": null,
   "metadata": {
    "collapsed": true
   },
   "outputs": [],
   "source": []
  }
 ],
 "metadata": {
  "kernelspec": {
   "display_name": "Python 3",
   "language": "python",
   "name": "python3"
  },
  "language_info": {
   "codemirror_mode": {
    "name": "ipython",
    "version": 3
   },
   "file_extension": ".py",
   "mimetype": "text/x-python",
   "name": "python",
   "nbconvert_exporter": "python",
   "pygments_lexer": "ipython3",
   "version": "3.6.1"
  }
 },
 "nbformat": 4,
 "nbformat_minor": 2
}
