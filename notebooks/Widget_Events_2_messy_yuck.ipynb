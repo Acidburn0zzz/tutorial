{
 "cells": [
  {
   "cell_type": "code",
   "execution_count": 4,
   "metadata": {},
   "outputs": [],
   "source": [
    "import ipywidgets as widgets"
   ]
  },
  {
   "cell_type": "markdown",
   "metadata": {},
   "source": [
    "Consider this super-simple (and super-bad) password generator widget: given a password length, it constructs a sequence of random letters of that length and displays it. In this notebook we'll walk through two ways of constructing that widget and introduce the concept oif using traitlets to connect the password calculation code to the widget's graphical interface."
   ]
  },
  {
   "cell_type": "markdown",
   "metadata": {},
   "source": [
    "## Construct the interface (widget)"
   ]
  },
  {
   "cell_type": "code",
   "execution_count": 7,
   "metadata": {},
   "outputs": [
    {
     "data": {
      "application/vnd.jupyter.widget-view+json": {
       "model_id": "0ee2134f6b5c4525bcc0bfd00bccfc02",
       "version_major": "2",
       "version_minor": "0"
      },
      "text/plain": [
       "A Jupyter Widget"
      ]
     },
     "metadata": {},
     "output_type": "display_data"
    }
   ],
   "source": [
    "helpful_title = widgets.HTML('Generated password is:')\n",
    "password_text = widgets.HTML('No password yet', placeholder='No password generated yet')\n",
    "password_text.layout.margin = '0 0 0 20px'\n",
    "password_length = widgets.IntSlider(description='Length of password',\n",
    "                                   min=8, max=20,\n",
    "                                   style={'description_width': 'initial'})\n",
    "\n",
    "password_widget = widgets.VBox(children=[helpful_title, password_text, password_length])\n",
    "password_widget"
   ]
  },
  {
   "cell_type": "code",
   "execution_count": 8,
   "metadata": {},
   "outputs": [],
   "source": [
    "def calculate_password(change):\n",
    "    import string\n",
    "    import random\n",
    "    length = change['new']\n",
    "    # Generate a list of random letters of the correct length.\n",
    "    password = [random.choice(string.ascii_letters) for _ in range(length)]\n",
    "    password = ''.join(password)\n",
    "    # NOTE THE LINE BELOW: it relies on the password widget already being defined.\n",
    "    password_text.value = password\n",
    "\n",
    "password_length.observe(calculate_password, names='value')"
   ]
  },
  {
   "cell_type": "markdown",
   "metadata": {},
   "source": [
    "Now that the connection is made, try moving the slider and you should see the password update."
   ]
  }
 ],
 "metadata": {
  "kernelspec": {
   "display_name": "Python 3",
   "language": "python",
   "name": "python3"
  },
  "language_info": {
   "codemirror_mode": {
    "name": "ipython",
    "version": 3
   },
   "file_extension": ".py",
   "mimetype": "text/x-python",
   "name": "python",
   "nbconvert_exporter": "python",
   "pygments_lexer": "ipython3",
   "version": "3.6.1"
  }
 },
 "nbformat": 4,
 "nbformat_minor": 2
}
