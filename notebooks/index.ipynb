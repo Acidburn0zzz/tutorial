{
 "cells": [
  {
   "cell_type": "markdown",
   "metadata": {},
   "source": [
    "# The Jupyter Interactive Widget Ecosystem "
   ]
  },
  {
   "cell_type": "markdown",
   "metadata": {},
   "source": [
    "1. [Overview](01-overview.ipynb)\n",
    "1. [Widgets without writing widgets: interact](Using Interact.ipynb)\n",
    "1. [Widget basics](02-Widget_Basics.ipynb)\n",
    "1. [Building blocks I: list of widgets in ipywidgets](03-widget-list.ipynb)\n",
    "1. [Widget layout and styling](04-Widget_Styling.ipynb)\n",
    "1. [Widget layout exercises](05-container-exercises.ipynb)\n",
    "1. [Introduction to widget events](06-Widget_Events.ipynb)\n",
    "1. More widget events: A (bad) password generator, three ways:\n",
    "    1. [First pass: `observe`](Widget Events 2 -- bad password generator, version 1.ipynb)\n",
    "    1. [Second pass: Model-View-Controller with functions](Widget Events 2 --MVC design.ipynb)\n",
    "    1. [Third pass: MVC with objects](Widget Events 2--MVC, object oriented.ipynb)\n",
    "1. [bqplot: graph as a control in a widget](bqplot--A plot as a control in a widget.ipynb)"
   ]
  },
  {
   "cell_type": "markdown",
   "metadata": {
    "collapsed": true
   },
   "source": [
    "# Acknowledgements\n",
    "\n",
    "+ Several of the notebooks in this tutorial were originally developed as part of [ipywidgets](http://ipywidgets.readthedocs.io/en/latest/) by Brian E. Granger [@ellisonbg](https://github.com/ellisonbg) and Jonathan Frederic [@jdfreder](https://github.com/jdfreder).\n",
    "+ Carol Willing [@willingc](https://github.com/willingc) and [Minnesota State University Moorhead](http://physics.mnstate.edu) students Andrew Block [@ACBlock](https://github.com/ACBlock) and Jane Glanzer [@janeglanzer](https://github.com/janeglanzer) provided very useful feedback on early drafts of these\n"
   ]
  }
 ],
 "metadata": {
  "kernelspec": {
   "display_name": "Python 3",
   "language": "python",
   "name": "python3"
  },
  "language_info": {
   "codemirror_mode": {
    "name": "ipython",
    "version": 3
   },
   "file_extension": ".py",
   "mimetype": "text/x-python",
   "name": "python",
   "nbconvert_exporter": "python",
   "pygments_lexer": "ipython3",
   "version": "3.6.1"
  }
 },
 "nbformat": 4,
 "nbformat_minor": 2
}
