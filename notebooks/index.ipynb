{
 "cells": [
  {
   "cell_type": "markdown",
   "metadata": {},
   "source": [
    "# The Jupyter Interactive Widget Ecosystem "
   ]
  },
  {
   "cell_type": "markdown",
   "metadata": {},
   "source": [
    "1. [Overview](01-overview.ipynb)\n",
    "1. [Widget basics](02-Widget_Basics.ipynb)\n",
    "1. [Building blocks I: list of widgets in ipywidgets](03-widget-list.ipynb)\n",
    "1. [Widget layout and styling](04-Widget_Styling.ipynb)\n",
    "1. [Widget layout exercises](05-container-exercises.ipynb)\n",
    "1. [Introduction to widget events](06-Widget_Events.ipynb)"
   ]
  }
 ],
 "metadata": {
  "kernelspec": {
   "display_name": "Python 3",
   "language": "python",
   "name": "python3"
  },
  "language_info": {
   "codemirror_mode": {
    "name": "ipython",
    "version": 3
   },
   "file_extension": ".py",
   "mimetype": "text/x-python",
   "name": "python",
   "nbconvert_exporter": "python",
   "pygments_lexer": "ipython3",
   "version": "3.6.1"
  }
 },
 "nbformat": 4,
 "nbformat_minor": 2
}
