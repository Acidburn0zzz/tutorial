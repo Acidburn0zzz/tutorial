{
 "cells": [
  {
   "cell_type": "code",
   "execution_count": 21,
   "metadata": {},
   "outputs": [],
   "source": [
    "import ipywidgets as widgets\n",
    "import traitlets"
   ]
  },
  {
   "cell_type": "markdown",
   "metadata": {},
   "source": [
    "Consider this super-simple (and super-bad) password generator widget: given a password length, it constructs a sequence of random letters of that length and displays it. In this notebook we'll walk through two ways of constructing that widget and introduce the concept oif using traitlets to connect the password calculation code to the widget's graphical interface."
   ]
  },
  {
   "cell_type": "markdown",
   "metadata": {},
   "source": [
    "## Construct the interface (widget)"
   ]
  },
  {
   "cell_type": "markdown",
   "metadata": {},
   "source": [
    "This time we will build the password widget as a subclass of `VBox`. This has the virtue of making it easy to distribute and use just like one of `ipywidget`'s built in widgets."
   ]
  },
  {
   "cell_type": "code",
   "execution_count": 15,
   "metadata": {},
   "outputs": [],
   "source": [
    "class PassGenGUI_v1(widgets.VBox):\n",
    "    def __init__(self):\n",
    "        # Do NOT forgot to do this!\n",
    "        super(PassGenGUI_v1, self).__init__()\n",
    "        \n",
    "        # Define each of the children...\n",
    "        self._helpful_title = widgets.HTML('Generated password is:')\n",
    "        self._password_text = widgets.HTML('No password yet', placeholder='No password generated yet')\n",
    "        self._password_text.layout.margin = '0 0 0 20px'\n",
    "        self._password_length = widgets.IntSlider(description='Length of password',\n",
    "                                                  min=8, max=20,\n",
    "                                                  style={'description_width': 'initial'})\n",
    "        children = [self._helpful_title, self._password_text, self._password_length]\n",
    "        self.children = children"
   ]
  },
  {
   "cell_type": "code",
   "execution_count": 16,
   "metadata": {},
   "outputs": [
    {
     "data": {
      "application/vnd.jupyter.widget-view+json": {
       "model_id": "d7cfce27b9c347c3b2ba9b8b13193284",
       "version_major": "2",
       "version_minor": "0"
      },
      "text/plain": [
       "A Jupyter Widget"
      ]
     },
     "metadata": {},
     "output_type": "display_data"
    }
   ],
   "source": [
    "pwd_gen = PassGenGUI_v1()\n",
    "pwd_gen"
   ]
  },
  {
   "cell_type": "code",
   "execution_count": 22,
   "metadata": {},
   "outputs": [],
   "source": [
    "pwd_gen.add_traits(value=traitlets.Unicode())"
   ]
  },
  {
   "cell_type": "markdown",
   "metadata": {},
   "source": [
    "Notice that our widget doesn't have a value; it really seems like it should, and that the value should be the password itself. Though we could add that as a `traitlet` linked to the value of the `_password_text`, we'll add a read-only property to the class instead. The reason is that we don't want users to be able to set the value of our widget's password. Its entire purpose is to generate a passsword for the user."
   ]
  },
  {
   "cell_type": "code",
   "execution_count": 37,
   "metadata": {},
   "outputs": [],
   "source": [
    "class PassGenGUI_v2(widgets.VBox):\n",
    "    def __init__(self):\n",
    "        # Do NOT forgot to do this!\n",
    "        super(PassGenGUI_v2, self).__init__()\n",
    "        \n",
    "        # Define each of the children...\n",
    "        self._helpful_title = widgets.HTML('Generated password is:')\n",
    "        self._password_text = widgets.HTML('No password yet', placeholder='No password generated yet')\n",
    "        self._password_text.layout.margin = '0 0 0 20px'\n",
    "        self._password_length = widgets.IntSlider(description='Length of password',\n",
    "                                                  min=8, max=20,\n",
    "                                                  style={'description_width': 'initial'})\n",
    "        children = [self._helpful_title, self._password_text, self._password_length]\n",
    "        self.children = children\n",
    "        \n",
    "    @property\n",
    "    def value(self):\n",
    "        return self._password_text.value"
   ]
  },
  {
   "cell_type": "code",
   "execution_count": 38,
   "metadata": {},
   "outputs": [
    {
     "data": {
      "application/vnd.jupyter.widget-view+json": {
       "model_id": "cb82ab9f9a3b4a768c1851f33ccd58f1",
       "version_major": "2",
       "version_minor": "0"
      },
      "text/plain": [
       "A Jupyter Widget"
      ]
     },
     "metadata": {},
     "output_type": "display_data"
    }
   ],
   "source": [
    "pwd_gen2 = PassGenGUI_v2()\n",
    "pwd_gen2"
   ]
  },
  {
   "cell_type": "code",
   "execution_count": 39,
   "metadata": {},
   "outputs": [
    {
     "data": {
      "text/plain": [
       "'No password yet'"
      ]
     },
     "execution_count": 39,
     "metadata": {},
     "output_type": "execute_result"
    }
   ],
   "source": [
    "pwd_gen2.value"
   ]
  },
  {
   "cell_type": "code",
   "execution_count": 41,
   "metadata": {},
   "outputs": [
    {
     "ename": "AttributeError",
     "evalue": "can't set attribute",
     "output_type": "error",
     "traceback": [
      "\u001b[0;31m---------------------------------------------------------------------------\u001b[0m",
      "\u001b[0;31mAttributeError\u001b[0m                            Traceback (most recent call last)",
      "\u001b[0;32m<ipython-input-41-46cba7947a3e>\u001b[0m in \u001b[0;36m<module>\u001b[0;34m()\u001b[0m\n\u001b[0;32m----> 1\u001b[0;31m \u001b[0mpwd_gen2\u001b[0m\u001b[0;34m.\u001b[0m\u001b[0mvalue\u001b[0m \u001b[0;34m=\u001b[0m \u001b[0;34m'new password'\u001b[0m\u001b[0;34m\u001b[0m\u001b[0m\n\u001b[0m",
      "\u001b[0;31mAttributeError\u001b[0m: can't set attribute"
     ]
    }
   ],
   "source": [
    "pwd_gen2.value = 'new password'"
   ]
  },
  {
   "cell_type": "markdown",
   "metadata": {},
   "source": [
    "## An alternative to callbacks: a model with traitlets, linked to the GUI\n",
    "\n",
    "In the previous iteration of our password generator we wrote a function to generate a password, and a second function to add a callback, i.e. a call to that function whenever a control changes. There is nothing wrong with that approach, but it gets more complicated the more controls you add.\n",
    "\n",
    "Imagine we add a second control that allows the user to choose whether to include numbers in the password. In addition to modifying the password generating function, we would either need to write a function for handling changes and make the new numerical checkbox `observe` the new function, or modify `update_password` to check which widget generated the event and make the apropriate call to `calculate_password`.\n",
    "\n",
    "Instead, we define a class below that generates the password, and includes as class attributes `traitlets` that we will later link to the widget GUI. Note that nothing in this class refers to the widget; it's logic is entirely internal.\n",
    "\n",
    "To include traitlets a class must subclass from `traitlets.HasTraits`."
   ]
  },
  {
   "cell_type": "code",
   "execution_count": 52,
   "metadata": {},
   "outputs": [],
   "source": [
    "# Subclass from HasTraits\n",
    "class PassGen_v1(traitlets.HasTraits):\n",
    "    # Define your traits here, as class attributes \n",
    "    length = traitlets.Integer()\n",
    "    \n",
    "    # initialize the class by calling the superclass\n",
    "    def __init__(self):\n",
    "        super(PassGen_v1, self).__init__()\n",
    "        \n",
    "    # The observe decorator is used to indicate that the function being\n",
    "    # decorated should be called if any of the traits listed as arguments\n",
    "    # change. The decorated function must have an argument named change;\n",
    "    # in this example the change variable isn't used because we want to update\n",
    "    # the generated password no matter what the change was.\n",
    "    \n",
    "    # Note that we are monitoring changes in PassGen's own trait, length,\n",
    "    # rather than a change in one of the controls in the GUI.\n",
    "    \n",
    "    @traitlets.observe('length')\n",
    "    def calculate_password(self, change):\n",
    "        import string\n",
    "        import random\n",
    "    \n",
    "        # Generate a list of random letters of the correct length.\n",
    "        new_password = [random.choice(string.ascii_letters) for _ in range(self.length)]\n",
    "        new_password = ''.join(new_password)\n",
    "        \n",
    "        # We don't return anything (explanation later). For now just print the \n",
    "        # password to observe what happens when we change the length.\n",
    "        print('In password generator password is: ', new_password)"
   ]
  },
  {
   "cell_type": "code",
   "execution_count": 53,
   "metadata": {},
   "outputs": [],
   "source": [
    "p = PassGen_v1()"
   ]
  },
  {
   "cell_type": "markdown",
   "metadata": {},
   "source": [
    "Try changing the length property of in the cell below. Note that any time it is changed, a new password is generated."
   ]
  },
  {
   "cell_type": "code",
   "execution_count": 54,
   "metadata": {},
   "outputs": [
    {
     "name": "stdout",
     "output_type": "stream",
     "text": [
      "In password generator password is:  MOePeSHhbcewOxckeKNKEoEMIGjCfXABwPwvQemHChCCeUtiwhiPBWSzuYLyKqdrUbkOMgKdNyqXEeWlhMBYNIDnZjewPXQHlYHu\n"
     ]
    }
   ],
   "source": [
    "p.length = 100"
   ]
  },
  {
   "cell_type": "markdown",
   "metadata": {},
   "source": [
    "We don't actually want to print the password out each time we generate a new one, of course, and we eventually want to connect this to a widget-based GUI. The class below adds a new trait for the generated password, and sets that trait in `calculate_password`. You could, in addition, return the generated password; that could be useful in testing your model code, for example."
   ]
  },
  {
   "cell_type": "code",
   "execution_count": 59,
   "metadata": {},
   "outputs": [],
   "source": [
    "# Subclass from HasTraits\n",
    "class PassGen_v2(traitlets.HasTraits):\n",
    "    # Define your traits here, as class attributes \n",
    "    length = traitlets.Integer()\n",
    "    \n",
    "    # The new trait is defined here:\n",
    "    password = traitlets.Unicode()\n",
    "    \n",
    "    def __init__(self):\n",
    "        super(PassGen_v2, self).__init__()\n",
    "            \n",
    "    @traitlets.observe('length')\n",
    "    def calculate_password(self, change):\n",
    "        import string\n",
    "        import random\n",
    "    \n",
    "        new_password = [random.choice(string.ascii_letters) for _ in range(self.length)]\n",
    "        new_password = ''.join(new_password)\n",
    "        \n",
    "        # Set the value of the password trait here:\n",
    "        self.password = new_password"
   ]
  },
  {
   "cell_type": "markdown",
   "metadata": {},
   "source": [
    "Now let's try it out:"
   ]
  },
  {
   "cell_type": "code",
   "execution_count": 60,
   "metadata": {},
   "outputs": [],
   "source": [
    "p2 = PassGen_v2()"
   ]
  },
  {
   "cell_type": "code",
   "execution_count": 69,
   "metadata": {},
   "outputs": [
    {
     "data": {
      "text/plain": [
       "'VMWfVwkTYtQ'"
      ]
     },
     "execution_count": 69,
     "metadata": {},
     "output_type": "execute_result"
    }
   ],
   "source": [
    "p2.length = 11\n",
    "p2.password"
   ]
  },
  {
   "cell_type": "markdown",
   "metadata": {},
   "source": [
    "Now that we have an interface and a model to encapsulate the calcualtion we want to do, we need to connect them. We will do it by creating the links in the GUI class. The code below is identical to `PassGenGUI_v2` from above, with the new lines explained in comments."
   ]
  },
  {
   "cell_type": "code",
   "execution_count": 81,
   "metadata": {},
   "outputs": [],
   "source": [
    "class PassGenGUI_v3(widgets.VBox):\n",
    "    def __init__(self):\n",
    "        super(PassGenGUI_v3, self).__init__()\n",
    "        \n",
    "        self._helpful_title = widgets.HTML('Generated password is:')\n",
    "        self._password_text = widgets.HTML('', placeholder='No password generated yet')\n",
    "        self._password_text.layout.margin = '0 0 0 20px'\n",
    "        self._password_length = widgets.IntSlider(description='Length of password',\n",
    "                                                  min=8, max=20,\n",
    "                                                  style={'description_width': 'initial'})\n",
    "        children = [self._helpful_title, self._password_text, self._password_length]\n",
    "        self.children = children\n",
    "        \n",
    "        # Create an instance of our model.\n",
    "        self.model = PassGen_v3()\n",
    "        \n",
    "        # link the password from the model to the _password_text widget\n",
    "        traitlets.link((self.model, 'password'), (self._password_text, 'value'))\n",
    "        \n",
    "        # link the _password_length widget to the length in the model\n",
    "        traitlets.link((self.model, 'length'), (self._password_length, 'value'))\n",
    "        \n",
    "    @property\n",
    "    def value(self):\n",
    "        return self._password_text.value"
   ]
  },
  {
   "cell_type": "markdown",
   "metadata": {},
   "source": [
    "Let's create an instance of the class, display it, and try it out!"
   ]
  },
  {
   "cell_type": "code",
   "execution_count": 82,
   "metadata": {},
   "outputs": [
    {
     "data": {
      "application/vnd.jupyter.widget-view+json": {
       "model_id": "4d18ba48762a43c98cddcca2d4f39e65",
       "version_major": "2",
       "version_minor": "0"
      },
      "text/plain": [
       "A Jupyter Widget"
      ]
     },
     "metadata": {},
     "output_type": "display_data"
    }
   ],
   "source": [
    "password_widget = PassGenGUI_v3()\n",
    "password_widget"
   ]
  },
  {
   "cell_type": "markdown",
   "metadata": {},
   "source": [
    "Notice that as currently written nothing prevents setting a nonsensical length:"
   ]
  },
  {
   "cell_type": "code",
   "execution_count": 70,
   "metadata": {},
   "outputs": [
    {
     "data": {
      "text/plain": [
       "''"
      ]
     },
     "execution_count": 70,
     "metadata": {},
     "output_type": "execute_result"
    }
   ],
   "source": [
    "p2.length = -14\n",
    "p2.password"
   ]
  },
  {
   "cell_type": "markdown",
   "metadata": {},
   "source": [
    "Traitlets provides a mechanism for validating values using the `@validate` decorator. The documentation on validation is [here](https://traitlets.readthedocs.io/en/stable/using_traitlets.html#validation), but the essential ideas are illustrated below."
   ]
  },
  {
   "cell_type": "code",
   "execution_count": 75,
   "metadata": {},
   "outputs": [],
   "source": [
    "# Subclass from HasTraits\n",
    "class PassGen_v3(traitlets.HasTraits):\n",
    "    # Define your traits here, as class attributes \n",
    "    length = traitlets.Integer()\n",
    "    password = traitlets.Unicode()\n",
    "    \n",
    "    def __init__(self):\n",
    "        super(PassGen_v3, self).__init__()\n",
    "            \n",
    "    @traitlets.observe('length')\n",
    "    def calculate_password(self, change):\n",
    "        import string\n",
    "        import random\n",
    "    \n",
    "        new_password = [random.choice(string.ascii_letters) for _ in range(self.length)]\n",
    "        new_password = ''.join(new_password)\n",
    "        \n",
    "        # Set the value of the password trait here:\n",
    "        self.password = new_password\n",
    "    \n",
    "    # The new validator:\n",
    "    @traitlets.validate('length')\n",
    "    def _moo(self, proposal):\n",
    "        length = proposal['value']\n",
    "        if length < 1:\n",
    "            raise traitlets.TraitError('Password length should be positive.')\n",
    "        return proposal['value']"
   ]
  },
  {
   "cell_type": "code",
   "execution_count": 76,
   "metadata": {},
   "outputs": [],
   "source": [
    "p3 = PassGen_v3()"
   ]
  },
  {
   "cell_type": "code",
   "execution_count": 77,
   "metadata": {},
   "outputs": [
    {
     "ename": "TraitError",
     "evalue": "Password length should be positive.",
     "output_type": "error",
     "traceback": [
      "\u001b[0;31m---------------------------------------------------------------------------\u001b[0m",
      "\u001b[0;31mTraitError\u001b[0m                                Traceback (most recent call last)",
      "\u001b[0;32m<ipython-input-77-bbbbf3a656f7>\u001b[0m in \u001b[0;36m<module>\u001b[0;34m()\u001b[0m\n\u001b[0;32m----> 1\u001b[0;31m \u001b[0mp3\u001b[0m\u001b[0;34m.\u001b[0m\u001b[0mlength\u001b[0m \u001b[0;34m=\u001b[0m \u001b[0;34m-\u001b[0m\u001b[0;36m23\u001b[0m\u001b[0;34m\u001b[0m\u001b[0m\n\u001b[0m",
      "\u001b[0;32m~/anaconda/envs/ipw-dev2/lib/python3.6/site-packages/traitlets/traitlets.py\u001b[0m in \u001b[0;36m__set__\u001b[0;34m(self, obj, value)\u001b[0m\n\u001b[1;32m    583\u001b[0m             \u001b[0;32mraise\u001b[0m \u001b[0mTraitError\u001b[0m\u001b[0;34m(\u001b[0m\u001b[0;34m'The \"%s\" trait is read-only.'\u001b[0m \u001b[0;34m%\u001b[0m \u001b[0mself\u001b[0m\u001b[0;34m.\u001b[0m\u001b[0mname\u001b[0m\u001b[0;34m)\u001b[0m\u001b[0;34m\u001b[0m\u001b[0m\n\u001b[1;32m    584\u001b[0m         \u001b[0;32melse\u001b[0m\u001b[0;34m:\u001b[0m\u001b[0;34m\u001b[0m\u001b[0m\n\u001b[0;32m--> 585\u001b[0;31m             \u001b[0mself\u001b[0m\u001b[0;34m.\u001b[0m\u001b[0mset\u001b[0m\u001b[0;34m(\u001b[0m\u001b[0mobj\u001b[0m\u001b[0;34m,\u001b[0m \u001b[0mvalue\u001b[0m\u001b[0;34m)\u001b[0m\u001b[0;34m\u001b[0m\u001b[0m\n\u001b[0m\u001b[1;32m    586\u001b[0m \u001b[0;34m\u001b[0m\u001b[0m\n\u001b[1;32m    587\u001b[0m     \u001b[0;32mdef\u001b[0m \u001b[0m_validate\u001b[0m\u001b[0;34m(\u001b[0m\u001b[0mself\u001b[0m\u001b[0;34m,\u001b[0m \u001b[0mobj\u001b[0m\u001b[0;34m,\u001b[0m \u001b[0mvalue\u001b[0m\u001b[0;34m)\u001b[0m\u001b[0;34m:\u001b[0m\u001b[0;34m\u001b[0m\u001b[0m\n",
      "\u001b[0;32m~/anaconda/envs/ipw-dev2/lib/python3.6/site-packages/traitlets/traitlets.py\u001b[0m in \u001b[0;36mset\u001b[0;34m(self, obj, value)\u001b[0m\n\u001b[1;32m    557\u001b[0m \u001b[0;34m\u001b[0m\u001b[0m\n\u001b[1;32m    558\u001b[0m     \u001b[0;32mdef\u001b[0m \u001b[0mset\u001b[0m\u001b[0;34m(\u001b[0m\u001b[0mself\u001b[0m\u001b[0;34m,\u001b[0m \u001b[0mobj\u001b[0m\u001b[0;34m,\u001b[0m \u001b[0mvalue\u001b[0m\u001b[0;34m)\u001b[0m\u001b[0;34m:\u001b[0m\u001b[0;34m\u001b[0m\u001b[0m\n\u001b[0;32m--> 559\u001b[0;31m         \u001b[0mnew_value\u001b[0m \u001b[0;34m=\u001b[0m \u001b[0mself\u001b[0m\u001b[0;34m.\u001b[0m\u001b[0m_validate\u001b[0m\u001b[0;34m(\u001b[0m\u001b[0mobj\u001b[0m\u001b[0;34m,\u001b[0m \u001b[0mvalue\u001b[0m\u001b[0;34m)\u001b[0m\u001b[0;34m\u001b[0m\u001b[0m\n\u001b[0m\u001b[1;32m    560\u001b[0m         \u001b[0;32mtry\u001b[0m\u001b[0;34m:\u001b[0m\u001b[0;34m\u001b[0m\u001b[0m\n\u001b[1;32m    561\u001b[0m             \u001b[0mold_value\u001b[0m \u001b[0;34m=\u001b[0m \u001b[0mobj\u001b[0m\u001b[0;34m.\u001b[0m\u001b[0m_trait_values\u001b[0m\u001b[0;34m[\u001b[0m\u001b[0mself\u001b[0m\u001b[0;34m.\u001b[0m\u001b[0mname\u001b[0m\u001b[0;34m]\u001b[0m\u001b[0;34m\u001b[0m\u001b[0m\n",
      "\u001b[0;32m~/anaconda/envs/ipw-dev2/lib/python3.6/site-packages/traitlets/traitlets.py\u001b[0m in \u001b[0;36m_validate\u001b[0;34m(self, obj, value)\u001b[0m\n\u001b[1;32m    591\u001b[0m             \u001b[0mvalue\u001b[0m \u001b[0;34m=\u001b[0m \u001b[0mself\u001b[0m\u001b[0;34m.\u001b[0m\u001b[0mvalidate\u001b[0m\u001b[0;34m(\u001b[0m\u001b[0mobj\u001b[0m\u001b[0;34m,\u001b[0m \u001b[0mvalue\u001b[0m\u001b[0;34m)\u001b[0m\u001b[0;34m\u001b[0m\u001b[0m\n\u001b[1;32m    592\u001b[0m         \u001b[0;32mif\u001b[0m \u001b[0mobj\u001b[0m\u001b[0;34m.\u001b[0m\u001b[0m_cross_validation_lock\u001b[0m \u001b[0;32mis\u001b[0m \u001b[0;32mFalse\u001b[0m\u001b[0;34m:\u001b[0m\u001b[0;34m\u001b[0m\u001b[0m\n\u001b[0;32m--> 593\u001b[0;31m             \u001b[0mvalue\u001b[0m \u001b[0;34m=\u001b[0m \u001b[0mself\u001b[0m\u001b[0;34m.\u001b[0m\u001b[0m_cross_validate\u001b[0m\u001b[0;34m(\u001b[0m\u001b[0mobj\u001b[0m\u001b[0;34m,\u001b[0m \u001b[0mvalue\u001b[0m\u001b[0;34m)\u001b[0m\u001b[0;34m\u001b[0m\u001b[0m\n\u001b[0m\u001b[1;32m    594\u001b[0m         \u001b[0;32mreturn\u001b[0m \u001b[0mvalue\u001b[0m\u001b[0;34m\u001b[0m\u001b[0m\n\u001b[1;32m    595\u001b[0m \u001b[0;34m\u001b[0m\u001b[0m\n",
      "\u001b[0;32m~/anaconda/envs/ipw-dev2/lib/python3.6/site-packages/traitlets/traitlets.py\u001b[0m in \u001b[0;36m_cross_validate\u001b[0;34m(self, obj, value)\u001b[0m\n\u001b[1;32m    597\u001b[0m         \u001b[0;32mif\u001b[0m \u001b[0mself\u001b[0m\u001b[0;34m.\u001b[0m\u001b[0mname\u001b[0m \u001b[0;32min\u001b[0m \u001b[0mobj\u001b[0m\u001b[0;34m.\u001b[0m\u001b[0m_trait_validators\u001b[0m\u001b[0;34m:\u001b[0m\u001b[0;34m\u001b[0m\u001b[0m\n\u001b[1;32m    598\u001b[0m             \u001b[0mproposal\u001b[0m \u001b[0;34m=\u001b[0m \u001b[0mBunch\u001b[0m\u001b[0;34m(\u001b[0m\u001b[0;34m{\u001b[0m\u001b[0;34m'trait'\u001b[0m\u001b[0;34m:\u001b[0m \u001b[0mself\u001b[0m\u001b[0;34m,\u001b[0m \u001b[0;34m'value'\u001b[0m\u001b[0;34m:\u001b[0m \u001b[0mvalue\u001b[0m\u001b[0;34m,\u001b[0m \u001b[0;34m'owner'\u001b[0m\u001b[0;34m:\u001b[0m \u001b[0mobj\u001b[0m\u001b[0;34m}\u001b[0m\u001b[0;34m)\u001b[0m\u001b[0;34m\u001b[0m\u001b[0m\n\u001b[0;32m--> 599\u001b[0;31m             \u001b[0mvalue\u001b[0m \u001b[0;34m=\u001b[0m \u001b[0mobj\u001b[0m\u001b[0;34m.\u001b[0m\u001b[0m_trait_validators\u001b[0m\u001b[0;34m[\u001b[0m\u001b[0mself\u001b[0m\u001b[0;34m.\u001b[0m\u001b[0mname\u001b[0m\u001b[0;34m]\u001b[0m\u001b[0;34m(\u001b[0m\u001b[0mobj\u001b[0m\u001b[0;34m,\u001b[0m \u001b[0mproposal\u001b[0m\u001b[0;34m)\u001b[0m\u001b[0;34m\u001b[0m\u001b[0m\n\u001b[0m\u001b[1;32m    600\u001b[0m         \u001b[0;32melif\u001b[0m \u001b[0mhasattr\u001b[0m\u001b[0;34m(\u001b[0m\u001b[0mobj\u001b[0m\u001b[0;34m,\u001b[0m \u001b[0;34m'_%s_validate'\u001b[0m \u001b[0;34m%\u001b[0m \u001b[0mself\u001b[0m\u001b[0;34m.\u001b[0m\u001b[0mname\u001b[0m\u001b[0;34m)\u001b[0m\u001b[0;34m:\u001b[0m\u001b[0;34m\u001b[0m\u001b[0m\n\u001b[1;32m    601\u001b[0m             \u001b[0mmeth_name\u001b[0m \u001b[0;34m=\u001b[0m \u001b[0;34m'_%s_validate'\u001b[0m \u001b[0;34m%\u001b[0m \u001b[0mself\u001b[0m\u001b[0;34m.\u001b[0m\u001b[0mname\u001b[0m\u001b[0;34m\u001b[0m\u001b[0m\n",
      "\u001b[0;32m~/anaconda/envs/ipw-dev2/lib/python3.6/site-packages/traitlets/traitlets.py\u001b[0m in \u001b[0;36m__call__\u001b[0;34m(self, *args, **kwargs)\u001b[0m\n\u001b[1;32m    905\u001b[0m         \u001b[0;34m\"\"\"Pass `*args` and `**kwargs` to the handler's function if it exists.\"\"\"\u001b[0m\u001b[0;34m\u001b[0m\u001b[0m\n\u001b[1;32m    906\u001b[0m         \u001b[0;32mif\u001b[0m \u001b[0mhasattr\u001b[0m\u001b[0;34m(\u001b[0m\u001b[0mself\u001b[0m\u001b[0;34m,\u001b[0m \u001b[0;34m'func'\u001b[0m\u001b[0;34m)\u001b[0m\u001b[0;34m:\u001b[0m\u001b[0;34m\u001b[0m\u001b[0m\n\u001b[0;32m--> 907\u001b[0;31m             \u001b[0;32mreturn\u001b[0m \u001b[0mself\u001b[0m\u001b[0;34m.\u001b[0m\u001b[0mfunc\u001b[0m\u001b[0;34m(\u001b[0m\u001b[0;34m*\u001b[0m\u001b[0margs\u001b[0m\u001b[0;34m,\u001b[0m \u001b[0;34m**\u001b[0m\u001b[0mkwargs\u001b[0m\u001b[0;34m)\u001b[0m\u001b[0;34m\u001b[0m\u001b[0m\n\u001b[0m\u001b[1;32m    908\u001b[0m         \u001b[0;32melse\u001b[0m\u001b[0;34m:\u001b[0m\u001b[0;34m\u001b[0m\u001b[0m\n\u001b[1;32m    909\u001b[0m             \u001b[0;32mreturn\u001b[0m \u001b[0mself\u001b[0m\u001b[0;34m.\u001b[0m\u001b[0m_init_call\u001b[0m\u001b[0;34m(\u001b[0m\u001b[0;34m*\u001b[0m\u001b[0margs\u001b[0m\u001b[0;34m,\u001b[0m \u001b[0;34m**\u001b[0m\u001b[0mkwargs\u001b[0m\u001b[0;34m)\u001b[0m\u001b[0;34m\u001b[0m\u001b[0m\n",
      "\u001b[0;32m<ipython-input-75-68a236a016c3>\u001b[0m in \u001b[0;36m_moo\u001b[0;34m(self, proposal)\u001b[0m\n\u001b[1;32m     24\u001b[0m         \u001b[0mlength\u001b[0m \u001b[0;34m=\u001b[0m \u001b[0mproposal\u001b[0m\u001b[0;34m[\u001b[0m\u001b[0;34m'value'\u001b[0m\u001b[0;34m]\u001b[0m\u001b[0;34m\u001b[0m\u001b[0m\n\u001b[1;32m     25\u001b[0m         \u001b[0;32mif\u001b[0m \u001b[0mlength\u001b[0m \u001b[0;34m<\u001b[0m \u001b[0;36m1\u001b[0m\u001b[0;34m:\u001b[0m\u001b[0;34m\u001b[0m\u001b[0m\n\u001b[0;32m---> 26\u001b[0;31m             \u001b[0;32mraise\u001b[0m \u001b[0mtraitlets\u001b[0m\u001b[0;34m.\u001b[0m\u001b[0mTraitError\u001b[0m\u001b[0;34m(\u001b[0m\u001b[0;34m'Password length should be positive.'\u001b[0m\u001b[0;34m)\u001b[0m\u001b[0;34m\u001b[0m\u001b[0m\n\u001b[0m\u001b[1;32m     27\u001b[0m         \u001b[0;32mreturn\u001b[0m \u001b[0mproposal\u001b[0m\u001b[0;34m[\u001b[0m\u001b[0;34m'value'\u001b[0m\u001b[0;34m]\u001b[0m\u001b[0;34m\u001b[0m\u001b[0m\n",
      "\u001b[0;31mTraitError\u001b[0m: Password length should be positive."
     ]
    }
   ],
   "source": [
    "p3.length = -23"
   ]
  },
  {
   "cell_type": "code",
   "execution_count": 78,
   "metadata": {},
   "outputs": [
    {
     "data": {
      "text/plain": [
       "'XVsChEKxKpfLwhzfzzUiGKYjt'"
      ]
     },
     "execution_count": 78,
     "metadata": {},
     "output_type": "execute_result"
    }
   ],
   "source": [
    "p3.length = 25\n",
    "p3.password"
   ]
  },
  {
   "cell_type": "code",
   "execution_count": null,
   "metadata": {},
   "outputs": [],
   "source": []
  }
 ],
 "metadata": {
  "kernelspec": {
   "display_name": "Python 3",
   "language": "python",
   "name": "python3"
  },
  "language_info": {
   "codemirror_mode": {
    "name": "ipython",
    "version": 3
   },
   "file_extension": ".py",
   "mimetype": "text/x-python",
   "name": "python",
   "nbconvert_exporter": "python",
   "pygments_lexer": "ipython3",
   "version": "3.6.1"
  }
 },
 "nbformat": 4,
 "nbformat_minor": 2
}
